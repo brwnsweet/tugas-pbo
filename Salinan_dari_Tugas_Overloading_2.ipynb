{
  "nbformat": 4,
  "nbformat_minor": 0,
  "metadata": {
    "colab": {
      "provenance": [],
      "include_colab_link": true
    },
    "kernelspec": {
      "name": "python3",
      "display_name": "Python 3"
    },
    "language_info": {
      "name": "python"
    }
  },
  "cells": [
    {
      "cell_type": "markdown",
      "metadata": {
        "id": "view-in-github",
        "colab_type": "text"
      },
      "source": [
        "<a href=\"https://colab.research.google.com/github/brwnsweet/tugas-pbo/blob/main/Salinan_dari_Tugas_Overloading_2.ipynb\" target=\"_parent\"><img src=\"https://colab.research.google.com/assets/colab-badge.svg\" alt=\"Open In Colab\"/></a>"
      ]
    },
    {
      "cell_type": "code",
      "execution_count": 4,
      "metadata": {
        "id": "5zCytCeM1uD4"
      },
      "outputs": [],
      "source": [
        "class Nama:\n",
        "  # method hasil() dengan default parameter\n",
        "  def hasil(self, nama1 = \"\", nama2 = \"\", nama3 = \"\", nama4= \"\"):\n",
        "    print(nama1 + nama2 + nama3 + nama4)"
      ]
    },
    {
      "cell_type": "code",
      "source": [
        "gabungkan = Nama()\n",
        "\n",
        "gabungkan.hasil(\"nuril \",\"izza \",\"nafisah \")\n",
        "gabungkan.hasil(\"kairi \",\"rayosdelsol \")\n",
        "gabungkan.hasil(\"park \",\"hyunsik \",\"min \",\"yoongi \")"
      ],
      "metadata": {
        "id": "liQBcJWZ12MN",
        "colab": {
          "base_uri": "https://localhost:8080/"
        },
        "outputId": "96104110-fd0e-4e87-db08-d983a90fca9f"
      },
      "execution_count": 8,
      "outputs": [
        {
          "output_type": "stream",
          "name": "stdout",
          "text": [
            "nuril izza nafisah \n",
            "kairi rayosdelsol \n",
            "lee doongmin \n",
            "park hyunsik min yoongi \n"
          ]
        }
      ]
    },
    {
      "cell_type": "markdown",
      "source": [
        "menurut saya overloading methodnya hampir sama dengan perulangan, namun ini bisa menggunakan banyak dan parameter yang yang berbeda2."
      ],
      "metadata": {
        "id": "NgROWXEgAGtb"
      }
    }
  ]
}