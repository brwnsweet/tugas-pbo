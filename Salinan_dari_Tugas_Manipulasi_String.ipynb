{
  "nbformat": 4,
  "nbformat_minor": 0,
  "metadata": {
    "colab": {
      "provenance": [],
      "include_colab_link": true
    },
    "kernelspec": {
      "name": "python3",
      "display_name": "Python 3"
    },
    "language_info": {
      "name": "python"
    }
  },
  "cells": [
    {
      "cell_type": "markdown",
      "metadata": {
        "id": "view-in-github",
        "colab_type": "text"
      },
      "source": [
        "<a href=\"https://colab.research.google.com/github/brwnsweet/tugas-pbo/blob/main/Salinan_dari_Tugas_Manipulasi_String.ipynb\" target=\"_parent\"><img src=\"https://colab.research.google.com/assets/colab-badge.svg\" alt=\"Open In Colab\"/></a>"
      ]
    },
    {
      "cell_type": "markdown",
      "source": [
        "buatlah class Catatan dengan atribut\n",
        "1. nama (string)\n",
        "2. nomor_absen (intejer)\n",
        "3. catatan (string)\n",
        "\n",
        "buat fungsi untuk\n",
        "1. menggabungkan semua atribut diatas menjadi sebuah kalimat menggunakan pertambahan string\n",
        "2. mencari kata dalam sebuah kalimat menggunakan fungsi in\n",
        "3. menggandakan jumlah kalimat menggunakan tanda perkalian *\n",
        "4. menghitung jumlah huruf dalam kalimat menggunakan len\n",
        "5. mencari kata pertama dalam kalimat menggunakan startswith"
      ],
      "metadata": {
        "id": "AIkziXKoHrlK"
      }
    },
    {
      "cell_type": "code",
      "source": [
        "#desain class\n",
        "class Catatan:\n",
        "  def __init__(self,nama,nomor_absen,catatan):\n",
        "    self.nama = nama\n",
        "    self.nomor_absen = nomor_absen\n",
        "    self.catatan = catatan\n",
        "\n",
        "  def gabung(self):\n",
        "    datadiri = self.nama + \" \" + str(self.nomor_absen) + \" \" + self.catatan\n",
        "    return datadiri\n",
        "\n",
        "  def tampil(self):\n",
        "    print(self.gabung())\n",
        "\n",
        "  def cari(self):\n",
        "    print(\"kairi\" in self.gabung())\n",
        "\n",
        "  def menggandakan(self):\n",
        "    print((self.gabung()) * 10)\n",
        "\n",
        "  def jumlah_huruf(self):\n",
        "    print(len(self.gabung()))\n",
        "\n",
        "  def startwith_awal(self):\n",
        "    print(str(self.gabung).startswith(\"kairi\"))"
      ],
      "metadata": {
        "id": "_YQuLGp_IA93"
      },
      "execution_count": 55,
      "outputs": []
    },
    {
      "cell_type": "code",
      "source": [
        "#main program\n",
        "catatan = Catatan(\"kairi\",18,\"everything its gonna be okay\")\n",
        "catatan.gabung()\n",
        "catatan.tampil()\n",
        "catatan.cari()\n",
        "catatan.menggandakan()\n",
        "catatan.jumlah_huruf()\n",
        "catatan.startwith_awal()"
      ],
      "metadata": {
        "id": "QdIPVcTJID9Q",
        "colab": {
          "base_uri": "https://localhost:8080/"
        },
        "outputId": "69e6924c-42c9-4563-e30b-4e270a35bf1c"
      },
      "execution_count": 56,
      "outputs": [
        {
          "output_type": "stream",
          "name": "stdout",
          "text": [
            "kairi 18 everything its gonna be okay\n",
            "True\n",
            "kairi 18 everything its gonna be okaykairi 18 everything its gonna be okaykairi 18 everything its gonna be okaykairi 18 everything its gonna be okaykairi 18 everything its gonna be okaykairi 18 everything its gonna be okaykairi 18 everything its gonna be okaykairi 18 everything its gonna be okaykairi 18 everything its gonna be okaykairi 18 everything its gonna be okay\n",
            "37\n",
            "False\n"
          ]
        }
      ]
    }
  ]
}