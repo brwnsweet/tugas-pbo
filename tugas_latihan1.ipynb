{
  "nbformat": 4,
  "nbformat_minor": 0,
  "metadata": {
    "colab": {
      "provenance": [],
      "include_colab_link": true
    },
    "kernelspec": {
      "name": "python3",
      "display_name": "Python 3"
    },
    "language_info": {
      "name": "python"
    }
  },
  "cells": [
    {
      "cell_type": "markdown",
      "metadata": {
        "id": "view-in-github",
        "colab_type": "text"
      },
      "source": [
        "<a href=\"https://colab.research.google.com/github/brwnsweet/tugas-pbo/blob/main/tugas_latihan1.ipynb\" target=\"_parent\"><img src=\"https://colab.research.google.com/assets/colab-badge.svg\" alt=\"Open In Colab\"/></a>"
      ]
    },
    {
      "cell_type": "markdown",
      "source": [
        "Sebuah start-up GoPay merupakan perusahaan vintage yang menjadi alat pembayaran aplikasi marketplace dan lainnya. Anda seorang programmer yang ditugaskan untuk membuat aplikasi GoPay yang memiliki sebuah class bernama AkunGopay, yang memiliki atribut no_hp, nama dan saldo, dimana semua atribut bersifat private, demi keamanan.\n",
        "\n",
        "\n",
        "Pengguna bisa mendaftar akun GoPay dengan no_hp dan nama saja, namun juga bisa mendaftar dengan no_hp, nama dan saldo. Jika mendaftar dengan no_hp dan nama saja maka saldo otomatis bernilai 0.\n",
        "\n",
        "\n",
        "Class AkunGopay harus menyediakan fungsi yang dapat diakses oleh Marketplace untuk melakukan transaksi, yaitu :\n",
        "\n",
        "1.   topUp(), yang digunakan untuk menambahkan saldo\n",
        "2.   bayarTransaksi(), yang mengurangi saldo ketika melakukan transaksi\n",
        "3.   getSaldo(), untuk mengetahui jumlah saldo\n",
        "\n",
        "\n",
        "\n",
        "Teman Anda adalah seorang programer yang bekerja di sebuah start-up terkemuka Tokopedia yang bekerjasama dengan start-up keuangan GoPay. Anda ditugaskan membuat apikasi yang memiliki class AkunToped, dan memiliki atribut nama dan nomer_hp.\n",
        "\n",
        "Class AkunToped harus menyediakan fungsi yang untuk melakukan transaksi, yaitu:\n",
        "\n",
        "1. transaksi(), yang digunakan untuk mengurangi saldo Gopay dengan paramater nominal transaksi.\n",
        "2. getSaldo(), untuk mengetahui jumlah saldo Gopay.\n",
        "\n"
      ],
      "metadata": {
        "id": "NOQKwrfHB4pv"
      }
    },
    {
      "cell_type": "code",
      "execution_count": 29,
      "metadata": {
        "id": "peDTMz-5kxlh"
      },
      "outputs": [],
      "source": [
        "#Desain Class\n",
        "class AkunGopay:\n",
        "  def __init__(self, nama, nohp, saldo):\n",
        "    self.__nama = nama\n",
        "    self.__nohp = nohp\n",
        "    self.__saldo = saldo\n",
        "\n",
        "  def topUp(self, topup):\n",
        "    if topup > 0 :\n",
        "     self.__saldo = self.__saldo + topup\n",
        "    else:\n",
        "      print(\"nominal minimal 1Rp,-\")\n",
        "      return self.__saldo\n",
        "\n",
        "  def bayar(self, bayar):\n",
        "    if bayar > 0 :\n",
        "     self.__saldo = self.__saldo - bayar\n",
        "    else:\n",
        "      print(\"gagal membayar!\")\n",
        "      return self.__saldo\n",
        "\n",
        "  def get_saldo(self):\n",
        "    return self.__saldo\n",
        "  def get_nama(self):\n",
        "    return self.__nama\n",
        "\n",
        "class Toped:\n",
        "  def __init__(self, nama, nohp):\n",
        "    self.nama = nama\n",
        "    self.nohp = nohp\n",
        "\n",
        "  def transaksi(self, gopay, transaksi):\n",
        "    if transaksi > gopay.get_saldo():\n",
        "     gopay.bayar(transaksi)\n",
        "    else:\n",
        "      print(\"please try again!!\")\n",
        "\n",
        "  def getSaldo(self, gopay):\n",
        "    return gopay.get_saldo()"
      ]
    },
    {
      "cell_type": "code",
      "source": [
        "#Main Program\n",
        "userGP = AkunGopay(\"kairiii\", \"098765\", 7000000)\n",
        "print(\"selamat datang\", userGP.get_nama())\n",
        "print(\"saldo anda senilai\", userGP.get_saldo())\n",
        "userGP.topUp(2000000)\n",
        "print(\"anda berhasil topUp senilai:\", userGP.get_saldo())\n",
        "userGP.bayar(3000000)\n",
        "print(\"Berhasil melakukan pembayaran senilai;\", userGP.get_saldo())\n",
        "\n",
        "usertoped = Toped(\"cia\", \"09877\")\n",
        "usertoped.transaksi(userGP, 30000)\n",
        "print(\"saldo anda sekarang\", usertoped.getSaldo(userGP))"
      ],
      "metadata": {
        "id": "eitzekkYkycQ",
        "colab": {
          "base_uri": "https://localhost:8080/"
        },
        "outputId": "84d1700b-25ef-4b0d-afbb-c4a1cac98281"
      },
      "execution_count": 31,
      "outputs": [
        {
          "output_type": "stream",
          "name": "stdout",
          "text": [
            "selamat datang kairiii\n",
            "saldo anda senilai 7000000\n",
            "anda berhasil topUp senilai: 9000000\n",
            "Berhasil melakukan pembayaran senilai; 6000000\n",
            "please try again!!\n",
            "saldo anda sekarang 6000000\n"
          ]
        }
      ]
    }
  ]
}