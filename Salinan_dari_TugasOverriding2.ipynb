{
  "nbformat": 4,
  "nbformat_minor": 0,
  "metadata": {
    "colab": {
      "provenance": [],
      "include_colab_link": true
    },
    "kernelspec": {
      "name": "python3",
      "display_name": "Python 3"
    },
    "language_info": {
      "name": "python"
    }
  },
  "cells": [
    {
      "cell_type": "markdown",
      "metadata": {
        "id": "view-in-github",
        "colab_type": "text"
      },
      "source": [
        "<a href=\"https://colab.research.google.com/github/brwnsweet/tugas-pbo/blob/main/Salinan_dari_TugasOverriding2.ipynb\" target=\"_parent\"><img src=\"https://colab.research.google.com/assets/colab-badge.svg\" alt=\"Open In Colab\"/></a>"
      ]
    },
    {
      "cell_type": "markdown",
      "source": [
        "Anda bekerja sebagai programmer di sebuah supermarket besar. Manajemen supermarket ingin Anda mengembangkan program Python untuk mengelola berbagai jenis produk yang mereka jual di toko mereka. Mereka memiliki kelas dasar **Produk** dengan atribut berikut:\n",
        "\n",
        "*   kode_barang (kode unik produk)\n",
        "*   nama (nama produk)\n",
        "*   harga (harga produk)\n",
        "\n",
        "Selain itu, mereka memiliki dua jenis produk spesifik: **ProdukMakanan** dan **ProdukElektronik**. Produk makanan memiliki atribut tambahan:\n",
        "\n",
        "*   tanggal_kadaluarsa (tanggal kadaluarsa makanan)\n",
        "\n",
        "Sementara Produk elektronik memiliki atribut tambahan:\n",
        "\n",
        "*   garansi (lama garansi dalam bulan)\n",
        "\n",
        "Manajemen supermarket ingin Anda membuat program Python yang memungkinkan mereka untuk mencetak informasi tentang setiap produk, termasuk kode barang, nama, harga, serta atribut tambahan yang sesuai (tanggal kadaluarsa atau lama garansi).\n",
        "\n",
        "Tugas Anda adalah:\n",
        "\n",
        "\n",
        "1.   Membuat kelas Produk dengan atribut kode_barang, nama, dan harga, serta metode deskripsi yang mencetak informasi tentang produk tersebut.\n",
        "2.   Membuat kelas ProdukMakanan yang mewarisi dari kelas Produk dan memiliki atribut tambahan tanggal_kadaluarsa, serta mengimplementasikan metode deskripsi untuk mencetak informasi tentang produk makanan.\n",
        "1.   Membuat kelas ProdukElektronik yang juga mewarisi dari kelas Produk dan memiliki atribut tambahan garansi, serta mengimplementasikan metode deskripsi untuk mencetak informasi tentang produk elektronik.\n",
        "\n",
        "Program Anda harus mendemonstrasikan penggunaan konsep **overriding** dalam Python dalam konteks produk di supermarket.\n",
        "\n",
        "Selamat mengerjakan!\n",
        "\n",
        "\n",
        "\n",
        "\n",
        "\n"
      ],
      "metadata": {
        "id": "Yo0ulCyP2WPG"
      }
    },
    {
      "cell_type": "code",
      "execution_count": 21,
      "metadata": {
        "id": "tG1-g1OW2KSu"
      },
      "outputs": [],
      "source": [
        "class Produk:\n",
        "  def __init__(self, kode_barang, nama, harga):\n",
        "    self.kode_barang = kode_barang\n",
        "    self.nama = nama\n",
        "    self.harga = harga\n",
        "\n",
        "  def deskripsi(self):\n",
        "    print('Id Barang :',self.kode_barang)\n",
        "    print('Produk :',self.nama)\n",
        "    print('Harga :',self.harga, 'Rp,-')"
      ]
    },
    {
      "cell_type": "code",
      "source": [
        "class Makanan(Produk):\n",
        "  def __init__(self, kode_barang, nama, harga, tanggal_kadaluarsa):\n",
        "    super().__init__(kode_barang, nama, harga)\n",
        "    self.tanggal_kadaluarsa = tanggal_kadaluarsa\n",
        "\n",
        "  def deskripsi(self):\n",
        "    super().deskripsi()\n",
        "\n",
        "    print('Expired date :', self.tanggal_kadaluarsa)"
      ],
      "metadata": {
        "id": "oy32Lm4m39l0"
      },
      "execution_count": 22,
      "outputs": []
    },
    {
      "cell_type": "code",
      "source": [
        "class Elektronik(Produk):\n",
        "  def __init__(self, kode_barang, nama, harga, garansi):\n",
        "    super().__init__(kode_barang, nama, harga)\n",
        "    self.garansi = garansi\n",
        "\n",
        "  def deskripsi(self):\n",
        "    super().deskripsi()\n",
        "\n",
        "    print('Garansi :', self.garansi,'bulan')"
      ],
      "metadata": {
        "id": "wEgEGwxm4A1y"
      },
      "execution_count": 26,
      "outputs": []
    },
    {
      "cell_type": "code",
      "source": [
        "# Contoh penggunaan masing-masing jenis class produk\n",
        "# produk makanan di sini\n",
        "Product1 = Makanan(1001,\"Terong amerika\", 150000, \"23 mei 3030\")\n",
        "Product2 = Makanan(1021,\"hihang hoheng\", 50000, \"18 nov 3001\")\n",
        "\n",
        "\n",
        "# produk elektroni di sini\n",
        "Product3 = Elektronik(207, \"handphone\", 2600000, 12)\n",
        "Product4 = Elektronik(5678, \"kipas angin\", 300000, 2)\n",
        "\n",
        "# Deskripsi produk makanan\n",
        "print(\"Deskripsi Produk Makanan:\")\n",
        "print(\"*************************\")\n",
        "Product1.deskripsi()\n",
        "print(\"*************************\")\n",
        "Product2.deskripsi()\n",
        "print(\" \")\n",
        "print(\"============================\")\n",
        "print(\" \")\n",
        "# Deskripsi produk elektronik\n",
        "print(\"Deskripsi Produk Elektronik:\")\n",
        "print(\"****************************\")\n",
        "Product3.deskripsi()\n",
        "print(\"****************************\")\n",
        "Product4.deskripsi()"
      ],
      "metadata": {
        "id": "noeSP_dw4F4c",
        "colab": {
          "base_uri": "https://localhost:8080/"
        },
        "outputId": "76c5b3cd-fc45-49f0-aa8c-0e608fed79c4"
      },
      "execution_count": 27,
      "outputs": [
        {
          "output_type": "stream",
          "name": "stdout",
          "text": [
            "Deskripsi Produk Makanan:\n",
            "*************************\n",
            "Id Barang : 1001\n",
            "Produk : Terong amerika\n",
            "Harga : 150000 Rp,-\n",
            "Expired date : 23 mei 3030\n",
            "*************************\n",
            "Id Barang : 1021\n",
            "Produk : hihang hoheng\n",
            "Harga : 50000 Rp,-\n",
            "Expired date : 18 nov 3001\n",
            " \n",
            "============================\n",
            " \n",
            "Deskripsi Produk Elektronik:\n",
            "****************************\n",
            "Id Barang : 207\n",
            "Produk : handphone\n",
            "Harga : 2600000 Rp,-\n",
            "Garansi : 12 bulan\n",
            "****************************\n",
            "Id Barang : 5678\n",
            "Produk : kipas angin\n",
            "Harga : 300000 Rp,-\n",
            "Garansi : 2 bulan\n"
          ]
        }
      ]
    }
  ]
}